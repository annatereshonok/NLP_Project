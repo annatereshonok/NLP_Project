{
 "metadata": {
  "language_info": {
   "codemirror_mode": {
    "name": "ipython",
    "version": 3
   },
   "file_extension": ".py",
   "mimetype": "text/x-python",
   "name": "python",
   "nbconvert_exporter": "python",
   "pygments_lexer": "ipython3",
   "version": "3.7.6-final"
  },
  "orig_nbformat": 2,
  "kernelspec": {
   "name": "python3",
   "display_name": "Python 3",
   "language": "python"
  }
 },
 "nbformat": 4,
 "nbformat_minor": 2,
 "cells": [
  {
   "cell_type": "code",
   "execution_count": 114,
   "metadata": {},
   "outputs": [],
   "source": [
    "import requests\n",
    "import pandas as pd\n",
    "import openpyxl\n",
    "import tqdm"
   ]
  },
  {
   "source": [
    "### Parsing functions"
   ],
   "cell_type": "markdown",
   "metadata": {}
  },
  {
   "cell_type": "code",
   "execution_count": 128,
   "metadata": {},
   "outputs": [],
   "source": [
    "# get group ids by a search query\n",
    "def group_byquery(q, count, api_key):\n",
    "    api_endpoint = f'https://api.vk.com/method/groups.search?q={q}&type=group&count={count}&f&v=5.52&access_token={api_key}'\n",
    "    r = requests.get(api_endpoint)\n",
    "    data = r.json()\n",
    "    ids = [data['response']['items'][x]['id'] for x in range(0, count)]\n",
    "    return ids\n",
    "\n",
    "# get group posts text\n",
    "def get_data(group_id, count, api_key):\n",
    "    text = []\n",
    "    api_endpoint = f'https://api.vk.com/method/wall.get?owner_id=-{str(group_id)}&count={count}&filter=owner&f&v=5.52&access_token={api_key}'\n",
    "    r = requests.get(api_endpoint)\n",
    "    post_data = r.json()\n",
    "    try:\n",
    "         text = [post_data['response']['items'][n]['text'] for n in range(0,count)]\n",
    "         text = ' '.join(text)\n",
    "    except:\n",
    "        pass\n",
    "    return text\n",
    "    \n",
    "# get number of group followers\n",
    "def member_count(group_id, api_key):\n",
    "    api_endpoint_count = f'https://api.vk.com/method/groups.getById?group_ids={group_id}&fields=members_count&v=5.52&access_token={api_key}'\n",
    "    k = requests.get(api_endpoint_count)\n",
    "    count_data = k.json()\n",
    "    try:\n",
    "        members = count_data['response'][0]['members_count']\n",
    "    except:\n",
    "        members = 0\n",
    "        pass\n",
    "    return members\n",
    "# get group member ids\n",
    "def get_member_ids(group_id, api_key):\n",
    "    api_endpoint = f'https://api.vk.com/method/groups.getMembers?group_id={group_id}&sort=id_asc&v=5.52&access_token={api_key}'\n",
    "    r = requests.get(api_endpoint)\n",
    "    data = r.json()\n",
    "    try:\n",
    "        member_ids = data['response']['items']\n",
    "    except:\n",
    "        member_ids = 0\n",
    "        pass\n",
    "    return member_ids"
   ]
  },
  {
   "cell_type": "code",
   "execution_count": null,
   "metadata": {},
   "outputs": [],
   "source": [
    "count = 300 # namber of groups to parse\n",
    "q = 'музыка' #книги наука\n",
    "api_key = '' # here is your vk api"
   ]
  },
  {
   "cell_type": "code",
   "execution_count": 174,
   "metadata": {},
   "outputs": [],
   "source": [
    "ids = group_byquery(q, count, api_key)"
   ]
  },
  {
   "cell_type": "code",
   "execution_count": 175,
   "metadata": {},
   "outputs": [
    {
     "output_type": "stream",
     "name": "stderr",
     "text": [
      "100%|██████████| 300/300 [03:25<00:00,  1.46it/s]\n"
     ]
    }
   ],
   "source": [
    "count = 100 #number of posts to parse\n",
    "final_df = pd.DataFrame(ids, columns=[\"ids\"]).set_index('ids', drop=True)\n",
    "res_text = []\n",
    "members_count = []\n",
    "member_ids = []\n",
    "for group_id in tqdm.tqdm(final_df.index):\n",
    "     res_text.append(get_data(group_id, count, api_key))\n",
    "     members_count.append(member_count(group_id, api_key))\n",
    "     member_ids.append(get_member_ids(group_id, api_key))\n",
    "final_df['members_count'] = members_count\n",
    "final_df['text'] = res_text\n",
    "final_df['member_ids'] = member_ids"
   ]
  },
  {
   "cell_type": "code",
   "execution_count": 177,
   "metadata": {},
   "outputs": [
    {
     "output_type": "execute_result",
     "data": {
      "text/plain": [
       "           members_count                                               text  \\\n",
       "ids                                                                           \n",
       "27737784          328785  Какова роль фундаментальной науки в борьбе с п...   \n",
       "190320587           4934  Вниманию детей и их родителей! \\n \\nПроводится...   \n",
       "119331             35199                                                 []   \n",
       "153252740           5329  🆘 ПОДПИШИТЕ ПЕТИЦИЮ ПРОТИВ ПРИНЯТИЯ В РОССИИ Н...   \n",
       "20393607           26788  Пятизвездочный 🐄 коровник || Расскажу @ЗА ПАРУ...   \n",
       "...                  ...                                                ...   \n",
       "129392181            588                                                 []   \n",
       "100031872              0                                                 []   \n",
       "128486104              0                                                 []   \n",
       "404                    0                                                 []   \n",
       "9741429                0                                                 []   \n",
       "\n",
       "                                                  member_ids  \n",
       "ids                                                           \n",
       "27737784   [48, 348, 485, 575, 628, 708, 837, 905, 976, 1...  \n",
       "190320587  [423, 804, 1725, 8513, 13680, 15110, 18541, 21...  \n",
       "119331     [1586, 2051, 2925, 3058, 3406, 3473, 4049, 414...  \n",
       "153252740  [2774, 3186, 4990, 37082, 53556, 54471, 85322,...  \n",
       "20393607   [3450, 3721, 4646, 5280, 5511, 5846, 6376, 641...  \n",
       "...                                                      ...  \n",
       "129392181  [817333, 2322848, 2705487, 3340259, 3597780, 3...  \n",
       "100031872                                                  0  \n",
       "128486104                                                  0  \n",
       "404                                                        0  \n",
       "9741429                                                    0  \n",
       "\n",
       "[300 rows x 3 columns]"
      ],
      "text/html": "<div>\n<style scoped>\n    .dataframe tbody tr th:only-of-type {\n        vertical-align: middle;\n    }\n\n    .dataframe tbody tr th {\n        vertical-align: top;\n    }\n\n    .dataframe thead th {\n        text-align: right;\n    }\n</style>\n<table border=\"1\" class=\"dataframe\">\n  <thead>\n    <tr style=\"text-align: right;\">\n      <th></th>\n      <th>members_count</th>\n      <th>text</th>\n      <th>member_ids</th>\n    </tr>\n    <tr>\n      <th>ids</th>\n      <th></th>\n      <th></th>\n      <th></th>\n    </tr>\n  </thead>\n  <tbody>\n    <tr>\n      <th>27737784</th>\n      <td>328785</td>\n      <td>Какова роль фундаментальной науки в борьбе с п...</td>\n      <td>[48, 348, 485, 575, 628, 708, 837, 905, 976, 1...</td>\n    </tr>\n    <tr>\n      <th>190320587</th>\n      <td>4934</td>\n      <td>Вниманию детей и их родителей! \\n \\nПроводится...</td>\n      <td>[423, 804, 1725, 8513, 13680, 15110, 18541, 21...</td>\n    </tr>\n    <tr>\n      <th>119331</th>\n      <td>35199</td>\n      <td>[]</td>\n      <td>[1586, 2051, 2925, 3058, 3406, 3473, 4049, 414...</td>\n    </tr>\n    <tr>\n      <th>153252740</th>\n      <td>5329</td>\n      <td>🆘 ПОДПИШИТЕ ПЕТИЦИЮ ПРОТИВ ПРИНЯТИЯ В РОССИИ Н...</td>\n      <td>[2774, 3186, 4990, 37082, 53556, 54471, 85322,...</td>\n    </tr>\n    <tr>\n      <th>20393607</th>\n      <td>26788</td>\n      <td>Пятизвездочный 🐄 коровник || Расскажу @ЗА ПАРУ...</td>\n      <td>[3450, 3721, 4646, 5280, 5511, 5846, 6376, 641...</td>\n    </tr>\n    <tr>\n      <th>...</th>\n      <td>...</td>\n      <td>...</td>\n      <td>...</td>\n    </tr>\n    <tr>\n      <th>129392181</th>\n      <td>588</td>\n      <td>[]</td>\n      <td>[817333, 2322848, 2705487, 3340259, 3597780, 3...</td>\n    </tr>\n    <tr>\n      <th>100031872</th>\n      <td>0</td>\n      <td>[]</td>\n      <td>0</td>\n    </tr>\n    <tr>\n      <th>128486104</th>\n      <td>0</td>\n      <td>[]</td>\n      <td>0</td>\n    </tr>\n    <tr>\n      <th>404</th>\n      <td>0</td>\n      <td>[]</td>\n      <td>0</td>\n    </tr>\n    <tr>\n      <th>9741429</th>\n      <td>0</td>\n      <td>[]</td>\n      <td>0</td>\n    </tr>\n  </tbody>\n</table>\n<p>300 rows × 3 columns</p>\n</div>"
     },
     "metadata": {},
     "execution_count": 177
    }
   ],
   "source": [
    "final_df "
   ]
  },
  {
   "cell_type": "code",
   "execution_count": 178,
   "metadata": {},
   "outputs": [],
   "source": [
    "final_df.to_csv('science2.csv') #saving data"
   ]
  }
 ]
}